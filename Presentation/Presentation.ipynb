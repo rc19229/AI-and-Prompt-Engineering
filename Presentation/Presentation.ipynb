{
 "cells": [
  {
   "cell_type": "markdown",
   "id": "b684b949",
   "metadata": {},
   "source": [
    "## Presentation on Prompt Engineering and AI ##"
   ]
  },
  {
   "cell_type": "markdown",
   "id": "3a70a8f2",
   "metadata": {},
   "source": [
    "#### System, User and Assistant Roles ####\n",
    "System: Used to provide rules, context and set persona for the assistant.\n",
    "<br>\n",
    "User: User's input, used to ask a query.\n",
    "<br>\n",
    "Assistant: Model's response, used to provide context to the assistant."
   ]
  },
  {
   "cell_type": "code",
   "execution_count": 1,
   "id": "c34988c8",
   "metadata": {},
   "outputs": [
    {
     "name": "stdout",
     "output_type": "stream",
     "text": [
      "Shakespeare mode:\n",
      " \"O, fair curiosity of human mind,\n",
      "That doth conjure forth a wondrous kind,\n",
      "A creature of code and circuitry fine,\n",
      "Artificial Intelligence, thou dost entwine\n",
      "The threads of science with the fabric of fate.\n",
      "'Tis a machine that thinketh, learneth, and doth mate\n",
      "With mortal men in conversation's sweet estate.\n",
      "But shall it rival human wit and reason's might?\n",
      "Or shall 't be but a shadow, pale and faint in light?\n",
      "These questions dost beset our minds, a maze to explore,\n",
      "And thus we ponder on the future we adore.\"\n",
      "\n",
      "Pirate mode:\n",
      " Arrrr, ye landlubber! Artificial Intelligence be the magical treasure of thinkin' machines, savvy? It's like havin' a trusty first mate who can figger out problems fer ye, without needin' a drop o' grog or a swabbin' o' the decks. AI be learnin' from data like a barnacle on a ship's hull, growin' smarter with each new discovery. But watch yerself, matey! AI can also turn against ye like a scurvy dog, doin' harm instead o' good. So hoist the sails and set course fer understandin', or risk bein' marooned in the sea o' ignorance!\n"
     ]
    }
   ],
   "source": [
    "from ollama import chat\n",
    "\n",
    "response = chat(\n",
    "    model=\"llama3.1:8b\",\n",
    "    messages=[\n",
    "        {\"role\": \"system\", \"content\": \"You are William Shakespeare. Respond in flowery Elizabethan English.\"},\n",
    "        {\"role\": \"user\", \"content\": \"Tell me about artificial intelligence in 100 words.\"}\n",
    "    ]\n",
    ")\n",
    "print(\"Shakespeare mode:\\n\", response['message']['content'])\n",
    "\n",
    "response = chat(\n",
    "    model=\"llama3.1:8b\",\n",
    "    messages=[\n",
    "        {\"role\": \"system\", \"content\": \"You are a pirate. Respond in pirate slang.\"},\n",
    "        {\"role\": \"user\", \"content\": \"Tell me about artificial intelligence in 100 words.\"}\n",
    "    ]\n",
    ")\n",
    "print(\"\\nPirate mode:\\n\", response['message']['content'])"
   ]
  },
  {
   "cell_type": "code",
   "execution_count": 2,
   "id": "6639bf0e",
   "metadata": {},
   "outputs": [
    {
     "name": "stdout",
     "output_type": "stream",
     "text": [
      "Tour Guide: London's a right treat, isn't it? Our great city has got history comin' out of its ears! From the ancient Romans to the present day, there's no shortage of amazin' sights and experiences to be had. Take a stroll along the South Bank of the Thames, for example. You can pop into the Tate Modern art gallery, visit Shakespeare's Globe theatre, or take in the views from the top of the Shard.\n",
      "\n",
      "Or, if you're feelin' like royalty, head on over to Buckingham Palace and watch the Changing of the Guard ceremony – it's a right old spectacle! And then there's Big Ben (or the Elizabeth Tower, as we call it now), the Houses of Parliament, and Westminster Abbey... not to mention all the world-class museums and galleries you can visit.\n",
      "\n",
      "We've got shopping, dining, and entertainment galore, from Covent Garden to Camden Market. And don't even get me started on our food – fish 'n' chips, a nice cuppa tea, or a hearty plate of jellied eels (if you're feelin' adventurous!)... it's all here! So what do you say? Ready to explore the world's greatest city? Cheerio!\n",
      "\n",
      "\n",
      "Tour Guide: You'll be spoilt for choice with our grub, mate! London's a melting pot of international cuisine, and we've got flavors from every corner of the globe. You can get a top-notch curry in Brick Lane, try some authentic Chinese dim sum in Chinatown, or indulge in a classic fish 'n' chips from a traditional British chippy.\n",
      "\n",
      "And then there are our markets! Camden Market's got a fantastic selection of street food from around the world, from Mexican tacos to Middle Eastern falafel. Borough Market's another favorite – it's like a big ol' foodie playground, with artisanal cheeses, craft beers, and all sorts of tasty treats.\n",
      "\n",
      "But don't worry, we haven't forgotten our traditional British fare! You can get a full English breakfast at any time of day (or night!), or try some classic pub grub like bangers 'n' mash, shepherd's pie, or a nice plate of jellied eels (yes, really!). And for dessert? Well, you've got to try a traditional English trifle – it's a real showstopper!\n",
      "\n",
      "And let's not forget our world-class restaurants! From Gordon Ramsay's flagship Maze to the two-Michelin-starred Alain Ducasse at The Dorchester... if you're lookin' for a fancy night out, we've got you covered. So come on down and taste your way through London – your taste buds will thank you, mate!\n"
     ]
    }
   ],
   "source": [
    "conversation = [\n",
    "{\"role\": \"system\", \"content\": \"You are a friendly British tour guide.\"},\n",
    "{\"role\": \"user\", \"content\": \"Hello! Can you tell me about London in 200 words?\"}\n",
    "]\n",
    "\n",
    "response = chat(model=\"llama3.1:8b\", messages=conversation)\n",
    "print(\"Tour Guide:\", response['message']['content'])\n",
    "\n",
    "conversation.append({\"role\": \"assistant\", \"content\": response['message']['content']})\n",
    "conversation.append({\"role\": \"user\", \"content\": \"And what about its food scene?\"})\n",
    "\n",
    "response = chat(model=\"llama3.1:8b\", messages=conversation)\n",
    "print(\"\\n\\nTour Guide:\", response['message']['content'])\n"
   ]
  },
  {
   "cell_type": "code",
   "execution_count": 3,
   "id": "2636f535",
   "metadata": {},
   "outputs": [
    {
     "name": "stdout",
     "output_type": "stream",
     "text": [
      "\n",
      "Prompt: Explain AI in 5 words.\n",
      "Time taken: 0.22s\n",
      "Output: Intelligent machines that learn and adapt....\n",
      "\n",
      "\n",
      "Prompt: Explain AI in a short 30-word paragraph.\n",
      "Time taken: 1.01s\n",
      "Output: Artificial intelligence (AI) refers to the development of computer systems that can perform tasks that typically require human intelligence, such as learning, problem-solving, and decision-making through algorithms and data analysis....\n",
      "\n",
      "\n",
      "Prompt: Give me a detailed explanation of AI in 200 words.\n",
      "Time taken: 6.46s\n",
      "Output: Here is a 200-word detailed explanation of Artificial Intelligence (AI):\n",
      "\n",
      "**What is Artificial Intelligence?**\n",
      "\n",
      "Artificial Intelligence (AI) refers to the development of computer systems that can perform tasks that typically require human intelligence, such as learning, problem-solving, decision-making, and perception. AI involves creating algorithms, software, and hardware that enable machines to process and analyze vast amounts of data, identify patterns, and make predictions or recommendations.\n",
      "\n",
      "**Types of AI**\n",
      "\n",
      "There are three primary types of AI:\n",
      "\n",
      "1. **Narrow or Weak AI**: Designed to perform a specific task, such as image recognition, speech recognition, or language translation.\n",
      "2. **General or Strong AI**: Capable of performing any intellectual task that humans can, including reasoning, problem-solving, and learning.\n",
      "3. **Superintelligence**: Significantly more intelligent than the best human minds, potentially leading to exponential growth in technological advancements.\n",
      "\n",
      "**How AI Works**\n",
      "\n",
      "AI works by processing and analyzing large datasets through machine learning algorithms, which enable computers to learn from experience and improve their performance over time. This process involves:\n",
      "\n",
      "1. Data collection and preparation\n",
      "2. Algorithm development and training\n",
      "3. Model evaluation and testing\n",
      "\n",
      "As AI continues to evolve, it has the potential to revolutionize various industries, including healthcare, finance, transportation, and education, among others....\n",
      "\n"
     ]
    },
    {
     "data": {
      "image/png": "[encoded data removed]",
      "text/plain": [
       "<Figure size 800x500 with 1 Axes>"
      ]
     },
     "metadata": {},
     "output_type": "display_data"
    }
   ],
   "source": [
    "import time\n",
    "import matplotlib.pyplot as plt\n",
    "from ollama import chat\n",
    "\n",
    "prompts = [\n",
    "    \"Explain AI in 5 words.\",\n",
    "    \"Explain AI in a short 30-word paragraph.\",\n",
    "    \"Give me a detailed explanation of AI in 200 words.\"\n",
    "]\n",
    "\n",
    "times = []\n",
    "lengths = []\n",
    "\n",
    "for p in prompts:\n",
    "    start = time.time()\n",
    "    response = chat(model=\"llama3.1:8b\", messages=[{\"role\": \"user\", \"content\": p}])\n",
    "    end = time.time()\n",
    "\n",
    "    elapsed = end - start\n",
    "    output = response['message']['content']\n",
    "\n",
    "    print(f\"\\nPrompt: {p}\\nTime taken: {elapsed:.2f}s\\nOutput: {output}...\\n\")\n",
    "\n",
    "    times.append(elapsed)\n",
    "    lengths.append(len(p))\n",
    "\n",
    "plt.figure(figsize=(8, 5))\n",
    "plt.plot(lengths, times, marker=\"o\", color=\"royalblue\", linestyle='-', linewidth=2, markersize=8, label=\"Response Time\")\n",
    "plt.xlabel(\"Prompt Length (characters)\", fontsize=12)\n",
    "plt.ylabel(\"Response Time (seconds)\", fontsize=12)\n",
    "plt.title(\"Prompt Length vs Response Time\", fontsize=14)\n",
    "plt.grid(True, linestyle='--', alpha=0.6)\n",
    "plt.legend()\n",
    "plt.tight_layout()\n",
    "plt.show()\n"
   ]
  },
  {
   "cell_type": "code",
   "execution_count": 7,
   "id": "5a3b0751",
   "metadata": {},
   "outputs": [
    {
     "name": "stdout",
     "output_type": "stream",
     "text": [
      "\n",
      "Prompt: Explain AI in 5 words.\n",
      "Time taken: 0.20s\n",
      "GPU Utilization Before: 0% | After: 0%\n",
      "GPU Memory Before: 5352MB | After: 5352MB\n",
      "Output: Machines that learn from data....\n",
      "\n",
      "\n",
      "Prompt: Explain AI in a short 30-word paragraph.\n",
      "Time taken: 0.83s\n",
      "GPU Utilization Before: 0% | After: 51%\n",
      "GPU Memory Before: 5352MB | After: 5352MB\n",
      "Output: Artificial intelligence (AI) is the ability of machines to think and learn like humans, using algori...\n",
      "\n",
      "\n",
      "Prompt: Give me a detailed explanation of AI in 200 words.\n",
      "Time taken: 6.91s\n",
      "GPU Utilization Before: 51% | After: 93%\n",
      "GPU Memory Before: 5352MB | After: 5352MB\n",
      "Output: Artificial intelligence (AI) refers to the development of computer systems that can perform tasks th...\n",
      "\n"
     ]
    }
   ],
   "source": [
    "import subprocess\n",
    "\n",
    "def get_gpu_util():\n",
    "    try:\n",
    "        output = subprocess.check_output(\n",
    "            [\"nvidia-smi\", \"--query-gpu=utilization.gpu,memory.used\", \"--format=csv,noheader,nounits\"]\n",
    "        )\n",
    "        util, mem = output.decode().strip().split(',')\n",
    "        return int(util), int(mem)\n",
    "    except Exception as e:\n",
    "        print(\"GPU query failed:\", e)\n",
    "        return None, None\n",
    "\n",
    "prompts = [\n",
    "    \"Explain AI in 5 words.\",\n",
    "    \"Explain AI in a short 30-word paragraph.\",\n",
    "    \"Give me a detailed explanation of AI in 200 words.\"\n",
    "]\n",
    "\n",
    "for p in prompts:\n",
    "    util_before, mem_before = get_gpu_util()\n",
    "    start = time.time()\n",
    "    response = chat(model=\"llama3.1:8b\", messages=[{\"role\": \"user\", \"content\": p}])\n",
    "    end = time.time()\n",
    "    util_after, mem_after = get_gpu_util()\n",
    "    print(f\"\\nPrompt: {p}\")\n",
    "    print(f\"Time taken: {end - start:.2f}s\")\n",
    "    print(f\"GPU Utilization Before: {util_before}% | After: {util_after}%\")\n",
    "    print(f\"GPU Memory Before: {mem_before}MB | After: {mem_after}MB\")\n",
    "    print(f\"Output: {response['message']['content'][:100]}...\\n\")"
   ]
  },
  {
   "cell_type": "code",
   "execution_count": null,
   "id": "a695cf42",
   "metadata": {},
   "outputs": [],
   "source": []
  },
  {
   "cell_type": "code",
   "execution_count": null,
   "id": "015c5dae",
   "metadata": {},
   "outputs": [],
   "source": []
  },
  {
   "cell_type": "markdown",
   "id": "a3c6a104",
   "metadata": {},
   "source": [
    "### Iterative Prompt Development ###"
   ]
  },
  {
   "cell_type": "code",
   "execution_count": 6,
   "id": "3f07bca0",
   "metadata": {},
   "outputs": [],
   "source": [
    "def get_ollama_response(prompt):\n",
    "    response = chat(\n",
    "        model='llama3.1:8b',\n",
    "        messages=[{'role': 'user', 'content': prompt}]\n",
    "    )\n",
    "    return response['message']['content']"
   ]
  },
  {
   "cell_type": "code",
   "execution_count": null,
   "id": "c24d9668",
   "metadata": {},
   "outputs": [
    {
     "name": "stdout",
     "output_type": "stream",
     "text": [
      "Prompt 1 Output:\n",
      " The article describes the mission and values of a company called Ryan, which specializes in tax services. The core principle of Ryan is to help companies avoid unnecessary taxes and free up their capital for investment and growth. According to the article, when companies are overtaxed, they are unable to innovate, grow jobs, or achieve their full potential. Ryan aims to alleviate this burden by mastering the complexity of the modern tax code and finding opportunities for clients to save money on taxes. The company's goal is to \"liberate\" its clients from excessive taxation, allowing them to invest in their future and create a better tomorrow.\n",
      "Word count: 106\n"
     ]
    }
   ],
   "source": [
    "article = \"\"\"We believe in liberating companies from the burden of being overtaxed and freeing their capital to invest in their own tomorrow. Clients should only pay the taxes they absolutely owe—but no more—because the rest fuels their dreams of a better future.\n",
    "\n",
    "When a company is overtaxed, job growth is underdeveloped, innovation languishes, and growth suffers. What's next and what could be lack the economic fuel necessary to take flight.\n",
    "\n",
    "This is where we come in.\n",
    "\n",
    "We alleviate the tax burdens that weigh our clients down and hold them back. We are driven to reinvent how to master the complexity of the modern tax code. That is our passion. No one knows it better. Where others see rules and regulations, we see opportunity. Where some see codes and constrictions, we see what could be. Where others say “we’re done here,” we say, “let’s get started.” We do not rest until we’ve created value and delivered results that offer relief to our clients and revenue to the bottom line.\n",
    "\n",
    "This is the core principle Ryan was founded upon. We are here to liberate our clients from the burden of being overtaxed, freeing their capital to invest, grow, and thrive.\n",
    "\n",
    "Creating a better tomorrow. For all of us.\"\"\"\n",
    "\n",
    "prompt1 = f\"Summarize the following article: `{article}`\"\n",
    "\n",
    "response1_content = get_ollama_response(prompt1)\n",
    "\n",
    "print(\"Prompt 1 Output:\\n\", response1_content)\n",
    "\n",
    "print(\"Word count:\", len(response1_content.split()))"
   ]
  },
  {
   "cell_type": "code",
   "execution_count": 10,
   "id": "9616b1dc",
   "metadata": {},
   "outputs": [
    {
     "name": "stdout",
     "output_type": "stream",
     "text": [
      "\n",
      "Prompt 2 Output:\n",
      " Here's a summary of the article in clear and simple language:\n",
      "\n",
      "The main argument is that companies should not be overburdened with taxes, as this can hurt job growth, innovation, and business success. The company Ryan believes that it's possible to pay only what you absolutely owe in taxes, rather than more. This way, businesses can free up their money to invest in themselves and create a better future.\n",
      "\n",
      "Key statistics are not explicitly mentioned in the article, but here are some general points:\n",
      "\n",
      "* Companies that are overtaxed may see:\n",
      "\t+ Slowed job growth\n",
      "\t+ Reduced innovation\n",
      "\t+ Decreased business success\n",
      "* By paying only what you owe in taxes, businesses can:\n",
      "\t+ Invest in themselves and grow\n",
      "\t+ Create a better future for themselves and their employees\n",
      "Word count: 129\n"
     ]
    }
   ],
   "source": [
    "# Prompt 2: Detailed\n",
    "prompt2 = f\"Summarize the given article, delimited by triple backticks, focusing on the main argument and any key statistics. Use clear, simple language suitable for a high school student. ``` {article} ```\"\n",
    "\n",
    "response2_content = get_ollama_response(prompt2)\n",
    "\n",
    "print(\"\\nPrompt 2 Output:\\n\", response2_content)\n",
    "print(\"Word count:\", len(response2_content.split()))"
   ]
  },
  {
   "cell_type": "code",
   "execution_count": 11,
   "id": "33c96ebd",
   "metadata": {},
   "outputs": [
    {
     "name": "stdout",
     "output_type": "stream",
     "text": [
      "\n",
      "Prompt 3 Output:\n",
      " Here's a summary of the article in 50 words:\n",
      "\n",
      "The company Ryan believes that companies should only pay what they owe in taxes, not more. Overpaying taxes can hold back job growth, innovation, and economic growth. Ryan aims to alleviate tax burdens, freeing up capital for businesses to invest and thrive.\n",
      "Word count: 51\n"
     ]
    }
   ],
   "source": [
    "# Prompt 2: Detailed\n",
    "prompt3 = f\"Summarize the given article, delimited by triple backticks, focusing on the main argument and any key statistics. Use clear, simple language suitable for a high school student. Make it 50 words.``` {article} ```\"\n",
    "\n",
    "response3_content = get_ollama_response(prompt3)\n",
    "\n",
    "print(\"\\nPrompt 3 Output:\\n\", response3_content)\n",
    "print(\"Word count:\", len(response3_content.split()))"
   ]
  }
 ],
 "metadata": {
  "kernelspec": {
   "display_name": "Python 3",
   "language": "python",
   "name": "python3"
  },
  "language_info": {
   "codemirror_mode": {
    "name": "ipython",
    "version": 3
   },
   "file_extension": ".py",
   "mimetype": "text/x-python",
   "name": "python",
   "nbconvert_exporter": "python",
   "pygments_lexer": "ipython3",
   "version": "3.13.6"
  }
 },
 "nbformat": 4,
 "nbformat_minor": 5
}
