{
 "cells": [
  {
   "cell_type": "code",
   "execution_count": 1,
   "id": "b096ee16",
   "metadata": {},
   "outputs": [
    {
     "name": "stdout",
     "output_type": "stream",
     "text": [
      "This is a sample text file!\n"
     ]
    }
   ],
   "source": [
    "# Generate a function to read text from the sample.txt file\n",
    "def read_sample_file():\n",
    "    with open(\"sample.txt\", \"r\") as file:\n",
    "        return file.read()\n",
    "\n",
    "print(read_sample_file())"
   ]
  },
  {
   "cell_type": "code",
   "execution_count": 3,
   "id": "11a70a1a",
   "metadata": {},
   "outputs": [
    {
     "name": "stdout",
     "output_type": "stream",
     "text": [
      "Hello, this is a test.\n"
     ]
    }
   ],
   "source": [
    "# Function to write text to the sample.txt file\n",
    "def write_sample_file(content):\n",
    "    with open(\"sample.txt\", \"w\") as file:\n",
    "        file.write(content)\n",
    "\n",
    "write_sample_file(\"Hello, this is a test.\")\n",
    "print(read_sample_file())"
   ]
  },
  {
   "cell_type": "code",
   "execution_count": 6,
   "id": "f623dfb2",
   "metadata": {},
   "outputs": [
    {
     "name": "stdout",
     "output_type": "stream",
     "text": [
      "\n",
      "-----------------------\n",
      "Hello, this is a test.\n"
     ]
    }
   ],
   "source": [
    "# Function to delete the contents of the sample.txt file\n",
    "def delete_sample_file_contents():\n",
    "    with open(\"sample.txt\", \"w\") as file:\n",
    "        file.write(\"\")\n",
    "\n",
    "# Fix:\n",
    "# # Function to delete the contents of the sample.txt file\n",
    "# def delete_sample_file_contents():\n",
    "#     with open(\"sample.txt\", \"w\") as file:\n",
    "#         pass  # No need to write anything; opening in \"w\" mode clears the file\n",
    "\n",
    "delete_sample_file_contents()\n",
    "print(read_sample_file())\n",
    "\n",
    "print(\"-----------------------\")\n",
    "write_sample_file(\"Hello, this is a test.\")\n",
    "print(read_sample_file())"
   ]
  },
  {
   "cell_type": "code",
   "execution_count": 11,
   "id": "a29cb2cd",
   "metadata": {},
   "outputs": [
    {
     "name": "stdout",
     "output_type": "stream",
     "text": [
      "Hello, this is a test.\n",
      "This is an appended line.\n",
      "This is an appended line.\n",
      "\n"
     ]
    }
   ],
   "source": [
    "# Function to append text to the sample.txt file\n",
    "def append_sample_file(content):\n",
    "    with open(\"sample.txt\", \"a\") as file:\n",
    "        file.write(content + \"\\n\")\n",
    "\n",
    "append_sample_file(\"This is an appended line.\")\n",
    "print(read_sample_file())\n",
    "\n",
    "# Explanation: \n",
    "# This code defines a function called append_sample_file that takes a single argument, \n",
    "# content. The purpose of this function is to add new text to the end of a file named \n",
    "# sample.txt. It does this by opening sample.txt in append mode (\"a\"), which ensures that \n",
    "# any new content is added after the existing contents of the file, rather than overwriting \n",
    "# them. Inside the with block, the function writes the provided content followed by a \n",
    "# newline character (\"\\n\"), so each appended entry appears on its own line.\n",
    "\n",
    "# After defining the function, the code calls append_sample_file with the string \"This is an \n",
    "# appended line.\". This results in that line being added to the end of sample.txt. The use \n",
    "# of the with statement for file operations is a best practice in Python, as it \n",
    "# automatically handles closing the file after writing, even if an error occurs. This \n",
    "# approach is simple and effective for logging or accumulating data in a text file without\n",
    "#  losing previous entries."
   ]
  },
  {
   "cell_type": "code",
   "execution_count": null,
   "id": "7548d933",
   "metadata": {},
   "outputs": [],
   "source": [
    "# What else can I do to experiment with the sample.txt file\n",
    "\n",
    "# You can experiment with the sample.txt file by performing various file operations such as:\n",
    "# 1. Reading specific lines or sections of the file.\n",
    "# 2. Counting the number of lines or words in the file.\n",
    "# 3. Searching for specific keywords or phrases within the file.\n",
    "# 4. Replacing certain text in the file with new content.\n",
    "# 5. Creating a user interface to interact with the file (e.g., command line prompts)."
   ]
  },
  {
   "cell_type": "code",
   "execution_count": 13,
   "id": "6038b6b1",
   "metadata": {},
   "outputs": [
    {
     "name": "stdout",
     "output_type": "stream",
     "text": [
      "['This is an appended line.\\n', 'Here is another sample line.\\n', 'Adding one more line for testing.\\n']\n"
     ]
    }
   ],
   "source": [
    "# Read specific lines (e.g., lines 2 to 4) from sample.txt\n",
    "def read_lines(start, end):\n",
    "    with open(\"sample.txt\", \"r\") as file:\n",
    "        lines = file.readlines()\n",
    "        return lines[start-1:end]\n",
    "\n",
    "print(read_lines(2, 4))"
   ]
  },
  {
   "cell_type": "code",
   "execution_count": 14,
   "id": "8aac9f4c",
   "metadata": {},
   "outputs": [
    {
     "name": "stdout",
     "output_type": "stream",
     "text": [
      "Lines: 6, Words: 30\n"
     ]
    }
   ],
   "source": [
    "# Count lines and words in sample.txt\n",
    "def count_lines_words():\n",
    "    with open(\"sample.txt\", \"r\") as file:\n",
    "        lines = file.readlines()\n",
    "        word_count = sum(len(line.split()) for line in lines)\n",
    "        return len(lines), word_count\n",
    "\n",
    "lines, words = count_lines_words()\n",
    "print(f\"Lines: {lines}, Words: {words}\")"
   ]
  },
  {
   "cell_type": "code",
   "execution_count": 17,
   "id": "ed69f09f",
   "metadata": {},
   "outputs": [
    {
     "name": "stdout",
     "output_type": "stream",
     "text": [
      "['Hello, this is a test.\\n', 'Adding one more line for testing.\\n']\n"
     ]
    }
   ],
   "source": [
    "# Search for a keyword in sample.txt\n",
    "def search_keyword(keyword):\n",
    "    with open(\"sample.txt\", \"r\") as file:\n",
    "        return [line for line in file if keyword in line]\n",
    "\n",
    "print(search_keyword(\"test\"))"
   ]
  },
  {
   "cell_type": "code",
   "execution_count": 18,
   "id": "1abe7e30",
   "metadata": {},
   "outputs": [
    {
     "name": "stdout",
     "output_type": "stream",
     "text": [
      "Hello, this is a experiment.\n",
      "This is an appended line.\n",
      "Here is another sample line.\n",
      "Adding one more line for experimenting.\n",
      "Sample data line number four.\n",
      "End of sample lines.\n"
     ]
    }
   ],
   "source": [
    "# Replace a word or phrase in sample.txt\n",
    "def replace_text(old, new):\n",
    "    with open(\"sample.txt\", \"r\") as file:\n",
    "        content = file.read()\n",
    "    content = content.replace(old, new)\n",
    "    with open(\"sample.txt\", \"w\") as file:\n",
    "        file.write(content)\n",
    "\n",
    "replace_text(\"test\", \"experiment\")\n",
    "print(read_sample_file())"
   ]
  },
  {
   "cell_type": "code",
   "execution_count": 26,
   "id": "b60773ac",
   "metadata": {},
   "outputs": [
    {
     "name": "stdout",
     "output_type": "stream",
     "text": [
      "Hello, this is a experiment.\n",
      "This is an appended line.\n",
      "Here is another sample line.\n",
      "Adding one more line for experimenting.\n",
      "Sample data line number four.\n",
      "End of sample lines.Final Sample Line!!\n",
      "\n"
     ]
    }
   ],
   "source": [
    "# Simple CLI to read, write, or append to sample.txt\n",
    "def file_cli():\n",
    "    action = input(\"Type 'r' to read, 'w' to write, or 'a' to add: \").strip().lower()\n",
    "    if action == \"r\":\n",
    "        print(read_sample_file())\n",
    "    elif action == \"w\":\n",
    "        content = input(\"Enter text to write: \")\n",
    "        write_sample_file(content)\n",
    "        print(\"Written to file.\")\n",
    "    elif action == \"a\":\n",
    "        content = input(\"Enter text to append: \")\n",
    "        append_sample_file(content)\n",
    "        print(\"Appended to file.\")\n",
    "    else:\n",
    "        print(\"Unknown action.\")\n",
    "\n",
    "# Uncomment to run in a terminal\n",
    "file_cli()"
   ]
  }
 ],
 "metadata": {
  "kernelspec": {
   "display_name": "Python 3",
   "language": "python",
   "name": "python3"
  },
  "language_info": {
   "codemirror_mode": {
    "name": "ipython",
    "version": 3
   },
   "file_extension": ".py",
   "mimetype": "text/x-python",
   "name": "python",
   "nbconvert_exporter": "python",
   "pygments_lexer": "ipython3",
   "version": "3.13.6"
  }
 },
 "nbformat": 4,
 "nbformat_minor": 5
}
